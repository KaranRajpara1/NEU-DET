{
  "metadata": {
    "kernelspec": {
      "language": "python",
      "display_name": "Python 3",
      "name": "python3"
    },
    "language_info": {
      "pygments_lexer": "ipython3",
      "nbconvert_exporter": "python",
      "version": "3.6.4",
      "file_extension": ".py",
      "codemirror_mode": {
        "name": "ipython",
        "version": 3
      },
      "name": "python",
      "mimetype": "text/x-python"
    },
    "colab": {
      "name": "Surface Defect Detection using KNN-PCA.ipynb",
      "provenance": []
    }
  },
  "nbformat_minor": 0,
  "nbformat": 4,
  "cells": [
    {
      "cell_type": "code",
      "source": [
        "import os\n",
        "train_crazing_dir = os.path.join('../input/neu-surface-defect-database/NEU-DET/train/images/crazing')\n",
        "train_inclusion_dir = os.path.join('../input/neu-surface-defect-database/NEU-DET/train/images/inclusion/')\n",
        "train_patches_dir = os.path.join('../input/neu-surface-defect-database/NEU-DET/train/images/patches/')\n",
        "train_pitted_surface_dir = os.path.join('../input/neu-surface-defect-database/NEU-DET/train/images/pitted_surface/')\n",
        "train_rolledin_scale_dir = os.path.join('../input/neu-surface-defect-database/NEU-DET/train/images/rolled-in_scale/')\n",
        "train_scratches_dir = os.path.join('../input/neu-surface-defect-database/NEU-DET/train/images/scratches/')"
      ],
      "metadata": {
        "execution": {
          "iopub.status.busy": "2022-04-24T09:07:22.435822Z",
          "iopub.execute_input": "2022-04-24T09:07:22.43613Z",
          "iopub.status.idle": "2022-04-24T09:07:22.442698Z",
          "shell.execute_reply.started": "2022-04-24T09:07:22.436097Z",
          "shell.execute_reply": "2022-04-24T09:07:22.441881Z"
        },
        "trusted": true,
        "id": "wmkEyvJ5O0oe"
      },
      "execution_count": null,
      "outputs": []
    },
    {
      "cell_type": "code",
      "source": [
        "import numpy as np\n",
        "import matplotlib.pyplot as plt\n",
        "import pandas as pd\n",
        "import math"
      ],
      "metadata": {
        "execution": {
          "iopub.status.busy": "2022-04-24T09:07:22.893724Z",
          "iopub.execute_input": "2022-04-24T09:07:22.894634Z",
          "iopub.status.idle": "2022-04-24T09:07:22.898751Z",
          "shell.execute_reply.started": "2022-04-24T09:07:22.894592Z",
          "shell.execute_reply": "2022-04-24T09:07:22.898071Z"
        },
        "trusted": true,
        "id": "b6tNBm1NO0on"
      },
      "execution_count": null,
      "outputs": []
    },
    {
      "cell_type": "code",
      "source": [
        "'''\n",
        "url = \"../input/iris/Iris.csv\"\n",
        "\n",
        "# Assign colum names to the dataset\n",
        "names = ['sepal-length', 'sepal-width', 'petal-length', 'petal-width', 'Class']\n",
        "\n",
        "# Read dataset to pandas dataframe\n",
        "dataset = pd.read_csv(url, names=names)\n",
        "'''"
      ],
      "metadata": {
        "execution": {
          "iopub.status.busy": "2022-04-21T17:47:52.889764Z",
          "iopub.execute_input": "2022-04-21T17:47:52.890045Z",
          "iopub.status.idle": "2022-04-21T17:47:52.914657Z",
          "shell.execute_reply.started": "2022-04-21T17:47:52.890015Z",
          "shell.execute_reply": "2022-04-21T17:47:52.913919Z"
        },
        "trusted": true,
        "id": "9Wo6Qg1aO0op"
      },
      "execution_count": null,
      "outputs": []
    },
    {
      "cell_type": "code",
      "source": [
        ""
      ],
      "metadata": {
        "execution": {
          "iopub.status.busy": "2022-04-21T17:34:15.905733Z",
          "iopub.execute_input": "2022-04-21T17:34:15.905961Z",
          "iopub.status.idle": "2022-04-21T17:34:15.920199Z",
          "shell.execute_reply.started": "2022-04-21T17:34:15.905938Z",
          "shell.execute_reply": "2022-04-21T17:34:15.918548Z"
        },
        "trusted": true,
        "id": "vLdHD1hQO0oq"
      },
      "execution_count": null,
      "outputs": []
    },
    {
      "cell_type": "code",
      "source": [
        "train_crazing_names = os.listdir(train_crazing_dir)\n",
        "train_inclusion_names = os.listdir(train_inclusion_dir)\n",
        "train_patches_names = os.listdir(train_patches_dir)\n",
        "train_pitted_surface_names = os.listdir(train_pitted_surface_dir)\n",
        "train_rolledin_scale_names = os.listdir(train_rolledin_scale_dir)\n",
        "train_scratches_names = os.listdir(train_scratches_dir)"
      ],
      "metadata": {
        "execution": {
          "iopub.status.busy": "2022-04-24T09:07:26.148003Z",
          "iopub.execute_input": "2022-04-24T09:07:26.148679Z",
          "iopub.status.idle": "2022-04-24T09:07:26.615574Z",
          "shell.execute_reply.started": "2022-04-24T09:07:26.148637Z",
          "shell.execute_reply": "2022-04-24T09:07:26.614288Z"
        },
        "trusted": true,
        "id": "n84E_S9QO0or"
      },
      "execution_count": null,
      "outputs": []
    },
    {
      "cell_type": "code",
      "source": [
        "print('total training crazing images:', len(train_crazing_names))\n",
        "print('total training inclusion images:', len(train_inclusion_names))\n",
        "print('total training patches images:', len(train_patches_names))\n",
        "print('total training pitted_surface images:', len(train_pitted_surface_names))\n",
        "print('total training rolled_in_scale images:', len(train_rolledin_scale_names))\n",
        "print('total training scratches images:', len(train_scratches_names))"
      ],
      "metadata": {
        "execution": {
          "iopub.status.busy": "2022-04-24T09:07:26.726359Z",
          "iopub.execute_input": "2022-04-24T09:07:26.726721Z",
          "iopub.status.idle": "2022-04-24T09:07:26.73759Z",
          "shell.execute_reply.started": "2022-04-24T09:07:26.726684Z",
          "shell.execute_reply": "2022-04-24T09:07:26.73656Z"
        },
        "trusted": true,
        "id": "BJL5mf6YO0ot"
      },
      "execution_count": null,
      "outputs": []
    },
    {
      "cell_type": "code",
      "source": [
        "import pandas as pd\n",
        "import numpy as np\n",
        "import matplotlib.pyplot as plt\n",
        "from sklearn.model_selection import train_test_split\n",
        "import glob\n",
        "import cv2\n",
        "from sklearn.ensemble import RandomForestClassifier\n",
        "from sklearn import metrics\n",
        "from sklearn import svm\n",
        "from sklearn.metrics import classification_report, confusion_matrix\n",
        "import itertools"
      ],
      "metadata": {
        "execution": {
          "iopub.status.busy": "2022-04-24T09:07:28.435861Z",
          "iopub.execute_input": "2022-04-24T09:07:28.436317Z",
          "iopub.status.idle": "2022-04-24T09:07:30.612329Z",
          "shell.execute_reply.started": "2022-04-24T09:07:28.436285Z",
          "shell.execute_reply": "2022-04-24T09:07:30.611206Z"
        },
        "trusted": true,
        "id": "zSRCzv_xO0ov"
      },
      "execution_count": null,
      "outputs": []
    },
    {
      "cell_type": "code",
      "source": [
        "X_train = list()\n",
        "X_test = list()\n",
        "y_train = list()\n",
        "y_test = list()"
      ],
      "metadata": {
        "execution": {
          "iopub.status.busy": "2022-04-24T09:07:30.614374Z",
          "iopub.execute_input": "2022-04-24T09:07:30.614735Z",
          "iopub.status.idle": "2022-04-24T09:07:30.620805Z",
          "shell.execute_reply.started": "2022-04-24T09:07:30.614691Z",
          "shell.execute_reply": "2022-04-24T09:07:30.619404Z"
        },
        "trusted": true,
        "id": "6Liy4TWdO0ox"
      },
      "execution_count": null,
      "outputs": []
    },
    {
      "cell_type": "code",
      "source": [
        "# 0 = crazing \n",
        "# 1 = inclusion\n",
        "# 2 = patches\n",
        "# 3 = pitted_surface\n",
        "# 4 = rolled in scale\n",
        "# 5 = scratches"
      ],
      "metadata": {
        "execution": {
          "iopub.status.busy": "2022-04-21T18:34:27.262316Z",
          "iopub.execute_input": "2022-04-21T18:34:27.263006Z",
          "iopub.status.idle": "2022-04-21T18:34:27.26699Z",
          "shell.execute_reply.started": "2022-04-21T18:34:27.262946Z",
          "shell.execute_reply": "2022-04-21T18:34:27.266058Z"
        },
        "trusted": true,
        "id": "-9rPskbvO0oz"
      },
      "execution_count": null,
      "outputs": []
    },
    {
      "cell_type": "code",
      "source": [
        "path = train_crazing_dir+\"/*.jpg\"\n",
        "for file in glob.glob(path):     \n",
        "  img=cv2.imread(file)\n",
        "  img2=cv2.cvtColor(img,cv2.COLOR_BGR2GRAY)\n",
        "  X_train.append(img2)      #append all the pixel vector in X_train\n",
        "  y_train.append(0)         #append all the class in y_train\n",
        "\n",
        "print(X_train[0])\n",
        "print(len(X_train))"
      ],
      "metadata": {
        "execution": {
          "iopub.status.busy": "2022-04-24T09:07:31.881547Z",
          "iopub.execute_input": "2022-04-24T09:07:31.882265Z",
          "iopub.status.idle": "2022-04-24T09:07:33.731011Z",
          "shell.execute_reply.started": "2022-04-24T09:07:31.882208Z",
          "shell.execute_reply": "2022-04-24T09:07:33.729918Z"
        },
        "trusted": true,
        "id": "cful2WkuO0o1"
      },
      "execution_count": null,
      "outputs": []
    },
    {
      "cell_type": "code",
      "source": [
        "path = train_inclusion_dir+\"/*.jpg\"\n",
        "for file in glob.glob(path):     \n",
        "  img=cv2.imread(file)\n",
        "  img2=cv2.cvtColor(img,cv2.COLOR_BGR2GRAY)\n",
        "  X_train.append(img2)      #append all the pixel vector in X_train\n",
        "  y_train.append(1)         #append all the class in y_train\n",
        "\n",
        "\n",
        "print(len(X_train))"
      ],
      "metadata": {
        "execution": {
          "iopub.status.busy": "2022-04-24T09:07:33.73235Z",
          "iopub.execute_input": "2022-04-24T09:07:33.733162Z",
          "iopub.status.idle": "2022-04-24T09:07:35.064621Z",
          "shell.execute_reply.started": "2022-04-24T09:07:33.733121Z",
          "shell.execute_reply": "2022-04-24T09:07:35.063637Z"
        },
        "trusted": true,
        "id": "ktpbUK1YO0o2"
      },
      "execution_count": null,
      "outputs": []
    },
    {
      "cell_type": "code",
      "source": [
        "path = train_patches_dir+\"/*.jpg\"\n",
        "for file in glob.glob(path):     \n",
        "  img=cv2.imread(file)\n",
        "  img2=cv2.cvtColor(img,cv2.COLOR_BGR2GRAY)\n",
        "  X_train.append(img2)      #append all the pixel vector in X_train\n",
        "  y_train.append(2)         #append all the class in y_train\n",
        "\n",
        "print(len(X_train))"
      ],
      "metadata": {
        "execution": {
          "iopub.status.busy": "2022-04-24T09:07:35.066776Z",
          "iopub.execute_input": "2022-04-24T09:07:35.067135Z",
          "iopub.status.idle": "2022-04-24T09:07:36.803199Z",
          "shell.execute_reply.started": "2022-04-24T09:07:35.067086Z",
          "shell.execute_reply": "2022-04-24T09:07:36.80223Z"
        },
        "trusted": true,
        "id": "oqVDbIQuO0o3"
      },
      "execution_count": null,
      "outputs": []
    },
    {
      "cell_type": "code",
      "source": [
        "path = train_pitted_surface_dir+\"/*.jpg\"\n",
        "for file in glob.glob(path):     \n",
        "  img=cv2.imread(file)\n",
        "  img2=cv2.cvtColor(img,cv2.COLOR_BGR2GRAY)\n",
        "  X_train.append(img2)      #append all the pixel vector in X_train\n",
        "  y_train.append(3)         #append all the class in y_train\n",
        "\n",
        "\n",
        "print(len(X_train))"
      ],
      "metadata": {
        "execution": {
          "iopub.status.busy": "2022-04-24T09:07:36.804724Z",
          "iopub.execute_input": "2022-04-24T09:07:36.805113Z",
          "iopub.status.idle": "2022-04-24T09:07:38.247275Z",
          "shell.execute_reply.started": "2022-04-24T09:07:36.80508Z",
          "shell.execute_reply": "2022-04-24T09:07:38.246297Z"
        },
        "trusted": true,
        "id": "LAqWAhuxO0o4"
      },
      "execution_count": null,
      "outputs": []
    },
    {
      "cell_type": "code",
      "source": [
        "path = train_rolledin_scale_dir+\"/*.jpg\"\n",
        "for file in glob.glob(path):     \n",
        "  img=cv2.imread(file)\n",
        "  img2=cv2.cvtColor(img,cv2.COLOR_BGR2GRAY)\n",
        "  X_train.append(img2)      #append all the pixel vector in X_train\n",
        "  y_train.append(4)         #append all the class in y_train\n",
        "\n",
        "\n",
        "print(len(X_train))"
      ],
      "metadata": {
        "execution": {
          "iopub.status.busy": "2022-04-24T09:07:38.248414Z",
          "iopub.execute_input": "2022-04-24T09:07:38.248673Z",
          "iopub.status.idle": "2022-04-24T09:07:39.80111Z",
          "shell.execute_reply.started": "2022-04-24T09:07:38.248641Z",
          "shell.execute_reply": "2022-04-24T09:07:39.800347Z"
        },
        "trusted": true,
        "id": "sMxp1YLFO0o6"
      },
      "execution_count": null,
      "outputs": []
    },
    {
      "cell_type": "code",
      "source": [
        "path = train_scratches_dir+\"/*.jpg\"\n",
        "for file in glob.glob(path):     \n",
        "  img=cv2.imread(file)\n",
        "  img2=cv2.cvtColor(img,cv2.COLOR_BGR2GRAY)\n",
        "  X_train.append(img2)      #append all the pixel vector in X_train\n",
        "  y_train.append(5)         #append all the class in y_train\n",
        "\n",
        "\n",
        "print(len(X_train))"
      ],
      "metadata": {
        "execution": {
          "iopub.status.busy": "2022-04-24T06:58:11.164708Z",
          "iopub.execute_input": "2022-04-24T06:58:11.16525Z",
          "iopub.status.idle": "2022-04-24T06:58:12.063087Z",
          "shell.execute_reply.started": "2022-04-24T06:58:11.165214Z",
          "shell.execute_reply": "2022-04-24T06:58:12.062133Z"
        },
        "trusted": true,
        "id": "1f4EJGCOO0o7"
      },
      "execution_count": null,
      "outputs": []
    },
    {
      "cell_type": "code",
      "source": [
        "#Validation Dataset"
      ],
      "metadata": {
        "execution": {
          "iopub.status.busy": "2022-04-24T09:07:39.802974Z",
          "iopub.execute_input": "2022-04-24T09:07:39.803273Z",
          "iopub.status.idle": "2022-04-24T09:07:39.807671Z",
          "shell.execute_reply.started": "2022-04-24T09:07:39.803229Z",
          "shell.execute_reply": "2022-04-24T09:07:39.80651Z"
        },
        "trusted": true,
        "id": "Hn_sDg6WO0o7"
      },
      "execution_count": null,
      "outputs": []
    },
    {
      "cell_type": "code",
      "source": [
        "path = \"../input/neu-surface-defect-database/NEU-DET/validation/images/crazing/*.jpg\"\n",
        "for file in glob.glob(path):     \n",
        "  img=cv2.imread(file)\n",
        "  img2=cv2.cvtColor(img,cv2.COLOR_BGR2GRAY)\n",
        "  X_test.append(img2)      #append all the pixel vector in X_test\n",
        "  y_test.append(0)         #append all the class in y_test\n",
        "\n",
        "print(len(X_test))\n",
        "\n",
        "path = \"../input/neu-surface-defect-database/NEU-DET/validation/images/inclusion/*.jpg\"\n",
        "for file in glob.glob(path):     \n",
        "  img=cv2.imread(file)\n",
        "  img2=cv2.cvtColor(img,cv2.COLOR_BGR2GRAY)\n",
        "  X_test.append(img2)      #append all the pixel vector in X_test\n",
        "  y_test.append(1)         #append all the class in y_test\n",
        "\n",
        "print(len(X_test))\n",
        "\n",
        "path = \"../input/neu-surface-defect-database/NEU-DET/validation/images/patches/*.jpg\"\n",
        "for file in glob.glob(path):     \n",
        "  img=cv2.imread(file)\n",
        "  img2=cv2.cvtColor(img,cv2.COLOR_BGR2GRAY)\n",
        "  X_test.append(img2)      #append all the pixel vector in X_test\n",
        "  y_test.append(2)         #append all the class in y_test\n",
        "\n",
        "print(len(X_test))\n",
        "\n",
        "path = \"../input/neu-surface-defect-database/NEU-DET/validation/images/pitted_surface/*.jpg\"\n",
        "for file in glob.glob(path):     \n",
        "  img=cv2.imread(file)\n",
        "  img2=cv2.cvtColor(img,cv2.COLOR_BGR2GRAY)\n",
        "  X_test.append(img2)      #append all the pixel vector in X_test\n",
        "  y_test.append(3)         #append all the class in y_test\n",
        "\n",
        "print(len(X_test))\n",
        "\n",
        "path = \"../input/neu-surface-defect-database/NEU-DET/validation/images/rolled-in_scale/*.jpg\"\n",
        "for file in glob.glob(path):     \n",
        "  img=cv2.imread(file)\n",
        "  img2=cv2.cvtColor(img,cv2.COLOR_BGR2GRAY)\n",
        "  X_test.append(img2)      #append all the pixel vector in X_test\n",
        "  y_test.append(4)         #append all the class in y_test\n",
        "\n",
        "print(len(X_test))\n",
        "\n",
        "path = \"../input/neu-surface-defect-database/NEU-DET/validation/images/scratches/*.jpg\"\n",
        "for file in glob.glob(path):     \n",
        "  img=cv2.imread(file)\n",
        "  img2=cv2.cvtColor(img,cv2.COLOR_BGR2GRAY)\n",
        "  X_test.append(img2)      #append all the pixel vector in X_test\n",
        "  y_test.append(5)         #append all the class in y_test\n",
        "\n",
        "print(len(X_test))"
      ],
      "metadata": {
        "execution": {
          "iopub.status.busy": "2022-04-24T09:07:39.811086Z",
          "iopub.execute_input": "2022-04-24T09:07:39.811328Z",
          "iopub.status.idle": "2022-04-24T09:07:42.081624Z",
          "shell.execute_reply.started": "2022-04-24T09:07:39.811301Z",
          "shell.execute_reply": "2022-04-24T09:07:42.08061Z"
        },
        "trusted": true,
        "id": "B2-y5jz_O0o8"
      },
      "execution_count": null,
      "outputs": []
    },
    {
      "cell_type": "code",
      "source": [
        "len(X_train)"
      ],
      "metadata": {
        "execution": {
          "iopub.status.busy": "2022-04-24T09:07:42.085876Z",
          "iopub.execute_input": "2022-04-24T09:07:42.086129Z",
          "iopub.status.idle": "2022-04-24T09:07:42.096123Z",
          "shell.execute_reply.started": "2022-04-24T09:07:42.086101Z",
          "shell.execute_reply": "2022-04-24T09:07:42.095224Z"
        },
        "trusted": true,
        "id": "ZwWpfWnhO0o9"
      },
      "execution_count": null,
      "outputs": []
    },
    {
      "cell_type": "code",
      "source": [
        "X_train[0]"
      ],
      "metadata": {
        "execution": {
          "iopub.status.busy": "2022-04-24T09:07:42.097735Z",
          "iopub.execute_input": "2022-04-24T09:07:42.098967Z",
          "iopub.status.idle": "2022-04-24T09:07:42.1132Z",
          "shell.execute_reply.started": "2022-04-24T09:07:42.098907Z",
          "shell.execute_reply": "2022-04-24T09:07:42.112464Z"
        },
        "trusted": true,
        "id": "WvUNH-FzO0o-"
      },
      "execution_count": null,
      "outputs": []
    },
    {
      "cell_type": "code",
      "source": [
        "X_train[0].shape"
      ],
      "metadata": {
        "execution": {
          "iopub.status.busy": "2022-04-24T09:07:44.359006Z",
          "iopub.execute_input": "2022-04-24T09:07:44.359319Z",
          "iopub.status.idle": "2022-04-24T09:07:44.365955Z",
          "shell.execute_reply.started": "2022-04-24T09:07:44.359282Z",
          "shell.execute_reply": "2022-04-24T09:07:44.364535Z"
        },
        "trusted": true,
        "id": "wqg_l8V8O0o-"
      },
      "execution_count": null,
      "outputs": []
    },
    {
      "cell_type": "code",
      "source": [
        "X_train=np.array(X_train)\n",
        "y_train=np.array(y_train)\n",
        "X_test=np.array(X_test)\n",
        "y_test=np.array(y_test)"
      ],
      "metadata": {
        "execution": {
          "iopub.status.busy": "2022-04-24T09:07:46.197108Z",
          "iopub.execute_input": "2022-04-24T09:07:46.197884Z",
          "iopub.status.idle": "2022-04-24T09:07:46.250379Z",
          "shell.execute_reply.started": "2022-04-24T09:07:46.197825Z",
          "shell.execute_reply": "2022-04-24T09:07:46.249624Z"
        },
        "trusted": true,
        "id": "CbkL2Ra6O0o_"
      },
      "execution_count": null,
      "outputs": []
    },
    {
      "cell_type": "code",
      "source": [
        "print ('Train set:', X_train.shape,  y_train.shape)\n",
        "print ('Test set:', X_test.shape,  y_test.shape)"
      ],
      "metadata": {
        "execution": {
          "iopub.status.busy": "2022-04-24T09:07:48.219517Z",
          "iopub.execute_input": "2022-04-24T09:07:48.223137Z",
          "iopub.status.idle": "2022-04-24T09:07:48.23162Z",
          "shell.execute_reply.started": "2022-04-24T09:07:48.223065Z",
          "shell.execute_reply": "2022-04-24T09:07:48.230314Z"
        },
        "trusted": true,
        "id": "_SBnzUPjO0pA"
      },
      "execution_count": null,
      "outputs": []
    },
    {
      "cell_type": "code",
      "source": [
        "nsamples, nx, ny = X_train.shape\n",
        "X_train = X_train.reshape((nsamples,nx*ny))"
      ],
      "metadata": {
        "execution": {
          "iopub.status.busy": "2022-04-24T09:07:50.00407Z",
          "iopub.execute_input": "2022-04-24T09:07:50.00499Z",
          "iopub.status.idle": "2022-04-24T09:07:50.010223Z",
          "shell.execute_reply.started": "2022-04-24T09:07:50.004941Z",
          "shell.execute_reply": "2022-04-24T09:07:50.00903Z"
        },
        "trusted": true,
        "id": "cYHCBeOAO0pA"
      },
      "execution_count": null,
      "outputs": []
    },
    {
      "cell_type": "code",
      "source": [
        "X_train.shape"
      ],
      "metadata": {
        "execution": {
          "iopub.status.busy": "2022-04-24T09:07:51.402585Z",
          "iopub.execute_input": "2022-04-24T09:07:51.40351Z",
          "iopub.status.idle": "2022-04-24T09:07:51.410553Z",
          "shell.execute_reply.started": "2022-04-24T09:07:51.403415Z",
          "shell.execute_reply": "2022-04-24T09:07:51.408815Z"
        },
        "trusted": true,
        "id": "B1b53772O0pB"
      },
      "execution_count": null,
      "outputs": []
    },
    {
      "cell_type": "code",
      "source": [
        "type(X_train)"
      ],
      "metadata": {
        "execution": {
          "iopub.status.busy": "2022-04-24T09:07:53.137298Z",
          "iopub.execute_input": "2022-04-24T09:07:53.137843Z",
          "iopub.status.idle": "2022-04-24T09:07:53.144119Z",
          "shell.execute_reply.started": "2022-04-24T09:07:53.137793Z",
          "shell.execute_reply": "2022-04-24T09:07:53.143243Z"
        },
        "trusted": true,
        "id": "iqJDkOkFO0pB"
      },
      "execution_count": null,
      "outputs": []
    },
    {
      "cell_type": "code",
      "source": [
        "nsamples, nx, ny = X_test.shape\n",
        "X_test = X_test.reshape((nsamples,nx*ny))"
      ],
      "metadata": {
        "execution": {
          "iopub.status.busy": "2022-04-24T09:07:54.959627Z",
          "iopub.execute_input": "2022-04-24T09:07:54.960532Z",
          "iopub.status.idle": "2022-04-24T09:07:54.96508Z",
          "shell.execute_reply.started": "2022-04-24T09:07:54.960491Z",
          "shell.execute_reply": "2022-04-24T09:07:54.964357Z"
        },
        "trusted": true,
        "id": "EiSOAxrjO0pC"
      },
      "execution_count": null,
      "outputs": []
    },
    {
      "cell_type": "code",
      "source": [
        "X_test.shape"
      ],
      "metadata": {
        "execution": {
          "iopub.status.busy": "2022-04-24T09:07:56.636357Z",
          "iopub.execute_input": "2022-04-24T09:07:56.636921Z",
          "iopub.status.idle": "2022-04-24T09:07:56.642249Z",
          "shell.execute_reply.started": "2022-04-24T09:07:56.636885Z",
          "shell.execute_reply": "2022-04-24T09:07:56.641667Z"
        },
        "trusted": true,
        "id": "RgY_UiRaO0pC"
      },
      "execution_count": null,
      "outputs": []
    },
    {
      "cell_type": "code",
      "source": [
        "arr=X_train"
      ],
      "metadata": {
        "execution": {
          "iopub.status.busy": "2022-04-24T09:07:58.138114Z",
          "iopub.execute_input": "2022-04-24T09:07:58.138704Z",
          "iopub.status.idle": "2022-04-24T09:07:58.142836Z",
          "shell.execute_reply.started": "2022-04-24T09:07:58.138661Z",
          "shell.execute_reply": "2022-04-24T09:07:58.141809Z"
        },
        "trusted": true,
        "id": "zlvQEithO0pD"
      },
      "execution_count": null,
      "outputs": []
    },
    {
      "cell_type": "code",
      "source": [
        "rows, columns = arr.shape\n"
      ],
      "metadata": {
        "execution": {
          "iopub.status.busy": "2022-04-24T09:08:02.136574Z",
          "iopub.execute_input": "2022-04-24T09:08:02.136889Z",
          "iopub.status.idle": "2022-04-24T09:08:02.141042Z",
          "shell.execute_reply.started": "2022-04-24T09:08:02.136853Z",
          "shell.execute_reply": "2022-04-24T09:08:02.140374Z"
        },
        "trusted": true,
        "id": "nAS1SNxPO0pD"
      },
      "execution_count": null,
      "outputs": []
    },
    {
      "cell_type": "code",
      "source": [
        "standardizedArray = np.zeros(shape=(rows, 40000)) #columns\n"
      ],
      "metadata": {
        "execution": {
          "iopub.status.busy": "2022-04-24T09:08:02.819372Z",
          "iopub.execute_input": "2022-04-24T09:08:02.820221Z",
          "iopub.status.idle": "2022-04-24T09:08:02.824214Z",
          "shell.execute_reply.started": "2022-04-24T09:08:02.820181Z",
          "shell.execute_reply": "2022-04-24T09:08:02.823646Z"
        },
        "trusted": true,
        "id": "Z4qGCYcxO0pE"
      },
      "execution_count": null,
      "outputs": []
    },
    {
      "cell_type": "code",
      "source": [
        "tempArray = np.zeros(rows)"
      ],
      "metadata": {
        "execution": {
          "iopub.status.busy": "2022-04-24T09:08:06.821411Z",
          "iopub.execute_input": "2022-04-24T09:08:06.822015Z",
          "iopub.status.idle": "2022-04-24T09:08:06.832425Z",
          "shell.execute_reply.started": "2022-04-24T09:08:06.821845Z",
          "shell.execute_reply": "2022-04-24T09:08:06.829926Z"
        },
        "trusted": true,
        "id": "7l-br1RvO0pE"
      },
      "execution_count": null,
      "outputs": []
    },
    {
      "cell_type": "code",
      "source": [
        "for column in range(40000): #columns\n",
        "        \n",
        "        mean = np.mean(arr[:,column])\n",
        "        std = np.std(arr[:,column])\n",
        "        tempArray = np.empty(0)\n",
        "        \n",
        "        for element in arr[:,column]:\n",
        "            \n",
        "            tempArray = np.append(tempArray, ((element - mean) / std))\n",
        " \n",
        "        standardizedArray[:,column] = tempArray"
      ],
      "metadata": {
        "execution": {
          "iopub.status.busy": "2022-04-24T09:23:24.602527Z",
          "iopub.execute_input": "2022-04-24T09:23:24.602887Z",
          "iopub.status.idle": "2022-04-24T09:28:42.224736Z",
          "shell.execute_reply.started": "2022-04-24T09:23:24.602849Z",
          "shell.execute_reply": "2022-04-24T09:28:42.223838Z"
        },
        "trusted": true,
        "id": "1tjxzlkjO0pE"
      },
      "execution_count": null,
      "outputs": []
    },
    {
      "cell_type": "code",
      "source": [
        "covariance_matrix = np.cov(standardizedArray.T)"
      ],
      "metadata": {
        "execution": {
          "iopub.status.busy": "2022-04-24T07:31:46.350638Z",
          "iopub.execute_input": "2022-04-24T07:31:46.351375Z",
          "iopub.status.idle": "2022-04-24T07:32:14.256975Z",
          "shell.execute_reply.started": "2022-04-24T07:31:46.351321Z",
          "shell.execute_reply": "2022-04-24T07:32:14.256012Z"
        },
        "trusted": true,
        "id": "bS9azEVhO0pF"
      },
      "execution_count": null,
      "outputs": []
    },
    {
      "cell_type": "code",
      "source": [
        "import numpy as np\n",
        "eigen_values, eigen_vectors = np.linalg.eig(covariance_matrix)\n",
        "print(\"Eigenvector: \\n\",eigen_vectors,\"\\n\")\n",
        "print(\"Eigenvalues: \\n\", eigen_values, \"\\n\")"
      ],
      "metadata": {
        "execution": {
          "iopub.status.busy": "2022-04-24T07:32:22.698058Z",
          "iopub.execute_input": "2022-04-24T07:32:22.699157Z"
        },
        "trusted": true,
        "id": "o8ySrbOkO0pF"
      },
      "execution_count": null,
      "outputs": []
    },
    {
      "cell_type": "code",
      "source": [
        "#eigen_values"
      ],
      "metadata": {
        "execution": {
          "iopub.status.busy": "2022-04-24T08:58:11.606812Z",
          "iopub.execute_input": "2022-04-24T08:58:11.611162Z",
          "iopub.status.idle": "2022-04-24T08:58:12.115669Z",
          "shell.execute_reply.started": "2022-04-24T08:58:11.610186Z",
          "shell.execute_reply": "2022-04-24T08:58:12.114537Z"
        },
        "trusted": true,
        "id": "LWauplv8O0pG"
      },
      "execution_count": null,
      "outputs": []
    },
    {
      "cell_type": "code",
      "source": [
        "# Calculating the explained variance on each of components\n",
        "\n",
        "variance_explained = []\n",
        "for i in eigen_values:\n",
        "     variance_explained.append((i/sum(eigen_values))*100)\n",
        "        \n",
        "print(variance_explained)"
      ],
      "metadata": {
        "id": "Sha1u9PsO0pG"
      },
      "execution_count": null,
      "outputs": []
    },
    {
      "cell_type": "code",
      "source": [
        "cumulative_variance_explained = np.cumsum(variance_explained)\n",
        "print(cumulative_variance_explained)"
      ],
      "metadata": {
        "id": "KuUuNuuqO0pH"
      },
      "execution_count": null,
      "outputs": []
    },
    {
      "cell_type": "code",
      "source": [
        "# Visualizing the eigenvalues and finding the \"elbow\" in the graphic\n",
        "\n",
        "sns.lineplot(x = [1,2,3,4], y=cumulative_variance_explained)\n",
        "plt.xlabel(\"Number of components\")\n",
        "plt.ylabel(\"Cumulative explained variance\")\n",
        "plt.title(\"Explained variance vs Number of components\")"
      ],
      "metadata": {
        "id": "Qq4NBASMO0pH"
      },
      "execution_count": null,
      "outputs": []
    },
    {
      "cell_type": "code",
      "source": [
        "num_pca=??  #enter number of pca components"
      ],
      "metadata": {
        "id": "xuXzpkfCO0pH"
      },
      "execution_count": null,
      "outputs": []
    },
    {
      "cell_type": "code",
      "source": [
        "\n",
        "projection_matrix = (eigen_vectors.T[:][:num_pca]).T\n",
        "print(projection_matrix)"
      ],
      "metadata": {
        "id": "RBIrbJUAO0pI"
      },
      "execution_count": null,
      "outputs": []
    },
    {
      "cell_type": "code",
      "source": [
        "X_pca = X.dot(projection_matrix)\n",
        "print(X_pca)   #save the X_pca matrix as csv"
      ],
      "metadata": {
        "id": "fIFquQ8_O0pI"
      },
      "execution_count": null,
      "outputs": []
    },
    {
      "cell_type": "markdown",
      "source": [
        "#Principal Component Analysis"
      ],
      "metadata": {
        "id": "D6EWabp_O0pJ"
      }
    },
    {
      "cell_type": "code",
      "source": [
        "X_train=X_pca"
      ],
      "metadata": {
        "execution": {
          "iopub.status.busy": "2022-04-24T06:32:51.61669Z",
          "iopub.execute_input": "2022-04-24T06:32:51.617475Z",
          "iopub.status.idle": "2022-04-24T06:32:51.743242Z",
          "shell.execute_reply.started": "2022-04-24T06:32:51.617421Z",
          "shell.execute_reply": "2022-04-24T06:32:51.742102Z"
        },
        "trusted": true,
        "id": "_396Cw19O0pL"
      },
      "execution_count": null,
      "outputs": []
    },
    {
      "cell_type": "markdown",
      "source": [
        "Consider the validation Dataset, rescale it and fit it in PCA and apply it for training-testing for different values of K"
      ],
      "metadata": {
        "id": "u6T2Q_K-O0pL"
      }
    },
    {
      "cell_type": "code",
      "source": [
        ""
      ],
      "metadata": {
        "id": "XzAX5TfqO0pM"
      },
      "execution_count": null,
      "outputs": []
    },
    {
      "cell_type": "code",
      "source": [
        ""
      ],
      "metadata": {
        "id": "-2bPjNFXO0pM"
      },
      "execution_count": null,
      "outputs": []
    },
    {
      "cell_type": "code",
      "source": [
        ""
      ],
      "metadata": {
        "id": "B0t_9-DWO0pN"
      },
      "execution_count": null,
      "outputs": []
    },
    {
      "cell_type": "code",
      "source": [
        "from sklearn.neighbors import KNeighborsClassifier \n",
        "from sklearn import metrics"
      ],
      "metadata": {
        "execution": {
          "iopub.status.busy": "2022-04-20T16:20:52.942041Z",
          "iopub.execute_input": "2022-04-20T16:20:52.942553Z",
          "iopub.status.idle": "2022-04-20T16:20:52.951508Z",
          "shell.execute_reply.started": "2022-04-20T16:20:52.942502Z",
          "shell.execute_reply": "2022-04-20T16:20:52.950723Z"
        },
        "trusted": true,
        "id": "JE55ZabkO0pN"
      },
      "execution_count": null,
      "outputs": []
    },
    {
      "cell_type": "code",
      "source": [
        "train_accuracy = list()\n",
        "test_accuracy = list()\n",
        "k_value = list()"
      ],
      "metadata": {
        "execution": {
          "iopub.status.busy": "2022-04-20T16:20:52.952692Z",
          "iopub.execute_input": "2022-04-20T16:20:52.953046Z",
          "iopub.status.idle": "2022-04-20T16:20:52.965234Z",
          "shell.execute_reply.started": "2022-04-20T16:20:52.953016Z",
          "shell.execute_reply": "2022-04-20T16:20:52.964527Z"
        },
        "trusted": true,
        "id": "91psiiDgO0pO"
      },
      "execution_count": null,
      "outputs": []
    },
    {
      "cell_type": "code",
      "source": [
        "type(X_train)"
      ],
      "metadata": {
        "execution": {
          "iopub.status.busy": "2022-04-21T18:32:07.352993Z",
          "iopub.execute_input": "2022-04-21T18:32:07.353595Z",
          "iopub.status.idle": "2022-04-21T18:32:07.444092Z",
          "shell.execute_reply.started": "2022-04-21T18:32:07.353493Z",
          "shell.execute_reply": "2022-04-21T18:32:07.442909Z"
        },
        "trusted": true,
        "id": "GZKFMHezO0pO"
      },
      "execution_count": null,
      "outputs": []
    },
    {
      "cell_type": "code",
      "source": [
        "\n",
        "for k in range(1,101,2):\n",
        "    print(k)\n",
        "    knn= KNeighborsClassifier(n_neighbors=k)\n",
        "    knn.fit(X_train,y_train)\n",
        "    y_pred=knn.predict(X_train)\n",
        "    y_pred_test = knn.predict(X_test)\n",
        "\n",
        "    # print(metrics.accuracy_score(y_test, y_pred_test))\n",
        "    # print(confusion_matrix(y_test, y_pred_test))\n",
        "    # print(classification_report(y_test,y_pred_test))\n",
        "    k_value.append(k)\n",
        "    train_accuracy.append((metrics.accuracy_score(y_train, y_pred)))\n",
        "    test_accuracy.append(metrics.accuracy_score(y_test, y_pred_test))\n"
      ],
      "metadata": {
        "execution": {
          "iopub.status.busy": "2022-04-20T16:20:52.966542Z",
          "iopub.execute_input": "2022-04-20T16:20:52.966788Z",
          "iopub.status.idle": "2022-04-20T16:23:21.644448Z",
          "shell.execute_reply.started": "2022-04-20T16:20:52.966758Z",
          "shell.execute_reply": "2022-04-20T16:23:21.643383Z"
        },
        "trusted": true,
        "id": "iYPXEvyWO0pP"
      },
      "execution_count": null,
      "outputs": []
    },
    {
      "cell_type": "code",
      "source": [
        "print(train_accuracy)\n",
        "print(test_accuracy)\n",
        "print(k_value)"
      ],
      "metadata": {
        "execution": {
          "iopub.status.busy": "2022-04-20T16:23:21.650115Z",
          "iopub.execute_input": "2022-04-20T16:23:21.651038Z",
          "iopub.status.idle": "2022-04-20T16:23:21.660748Z",
          "shell.execute_reply.started": "2022-04-20T16:23:21.650971Z",
          "shell.execute_reply": "2022-04-20T16:23:21.658397Z"
        },
        "trusted": true,
        "id": "QNWYoxDfO0pQ"
      },
      "execution_count": null,
      "outputs": []
    },
    {
      "cell_type": "code",
      "source": [
        "plt.plot(k_value, train_accuracy, 'g', label='Training Accuracy')\n",
        "plt.plot(k_value, test_accuracy, 'b', label='Testing Accuracy')\n",
        "plt.title('Training and Testing Accuracy-KNN')\n",
        "plt.xlabel('K')\n",
        "plt.ylabel('Accuracy')\n",
        "plt.legend()\n",
        "plt.show()"
      ],
      "metadata": {
        "execution": {
          "iopub.status.busy": "2022-04-20T16:30:32.114069Z",
          "iopub.execute_input": "2022-04-20T16:30:32.114775Z",
          "iopub.status.idle": "2022-04-20T16:30:32.272978Z",
          "shell.execute_reply.started": "2022-04-20T16:30:32.114734Z",
          "shell.execute_reply": "2022-04-20T16:30:32.271991Z"
        },
        "trusted": true,
        "id": "Zk9nN-x4O0pQ"
      },
      "execution_count": null,
      "outputs": []
    },
    {
      "cell_type": "code",
      "source": [
        "max(test_accuracy)"
      ],
      "metadata": {
        "execution": {
          "iopub.status.busy": "2022-04-20T16:23:21.899608Z",
          "iopub.execute_input": "2022-04-20T16:23:21.900102Z",
          "iopub.status.idle": "2022-04-20T16:23:21.906839Z",
          "shell.execute_reply.started": "2022-04-20T16:23:21.900055Z",
          "shell.execute_reply": "2022-04-20T16:23:21.905918Z"
        },
        "trusted": true,
        "id": "JbqUJgztO0pQ"
      },
      "execution_count": null,
      "outputs": []
    },
    {
      "cell_type": "code",
      "source": [
        ""
      ],
      "metadata": {
        "id": "sBfUwC3VO0pR"
      },
      "execution_count": null,
      "outputs": []
    }
  ]
}